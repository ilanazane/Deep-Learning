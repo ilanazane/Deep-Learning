{
 "cells": [
  {
   "cell_type": "code",
   "execution_count": 8,
   "id": "44284e75",
   "metadata": {},
   "outputs": [],
   "source": [
    "import numpy as np \n",
    "from tensorflow.keras.models import Sequential,Model\n",
    "from tensorflow.keras.layers import BatchNormalization\n",
    "from keras.utils import np_utils\n",
    "from keras.layers import Conv2D,MaxPool2D,Flatten,Dense,Activation,Dropout,ZeroPadding2D,Add\n",
    "from keras.layers.advanced_activations import LeakyReLU\n",
    "from tensorflow.keras.optimizers import Adam\n",
    "from keras.engine.input_layer import Input\n",
    "from keras.initializers import glorot_uniform"
   ]
  },
  {
   "cell_type": "code",
   "execution_count": 11,
   "id": "7492d4f5",
   "metadata": {},
   "outputs": [],
   "source": [
    "numclasses = 10 \n",
    "\n",
    "xinput = Input((32,32,3))\n",
    "x = ZeroPadding2D(padding=(3,3),data_format=None)(xinput)\n",
    "x = Conv2D(64,(7,7),strides=(2,2),name='conv1',kernel_initializer=glorot_uniform(seed=0))(x)\n",
    "x = BatchNormalization(axis=3,name='bn_conv1')(x)\n",
    "x = Activation('relu')(x)\n",
    "x = MaxPool2D((3,3),strides=(2,2))(x)\n",
    "\n",
    "xshortcut = x \n",
    "x = ZeroPadding2D(padding=(1,1),data_format=None)(x)\n",
    "x = Conv2D(64,(3,3),strides=(1,1),name='conv2',kernel_initializer=glorot_uniform(seed=0))(x)\n",
    "x = BatchNormalization(axis=3,name='bn_conv2')(x)\n",
    "x = Activation('relu')(x)\n",
    "\n",
    "x = ZeroPadding2D(padding=(1,1),data_format=None)(x)\n",
    "x = Conv2D(64,(3,3),strides=(1,1),name='conv3',kernel_initializer=glorot_uniform(seed=0))(x)\n",
    "x = BatchNormalization(axis=3,name='bn_conv3')(x)\n",
    "x = Activation('relu')(x)\n",
    "\n",
    "x = Add()([x,xshortcut])\n",
    "x = Activation('relu')(x)\n",
    "\n",
    "x = Flatten()(x)\n",
    "x = Dense(numclasses,activation='softmax',name='fc'+str(numclasses),kernel_initializer=glorot_uniform(seed=0))(x)\n",
    "\n"
   ]
  },
  {
   "cell_type": "code",
   "execution_count": 12,
   "id": "f56e5c61",
   "metadata": {},
   "outputs": [
    {
     "name": "stdout",
     "output_type": "stream",
     "text": [
      "Model: \"ResNet50\"\n",
      "__________________________________________________________________________________________________\n",
      " Layer (type)                   Output Shape         Param #     Connected to                     \n",
      "==================================================================================================\n",
      " input_3 (InputLayer)           [(None, 32, 32, 3)]  0           []                               \n",
      "                                                                                                  \n",
      " zero_padding2d_2 (ZeroPadding2  (None, 38, 38, 3)   0           ['input_3[0][0]']                \n",
      " D)                                                                                               \n",
      "                                                                                                  \n",
      " conv1 (Conv2D)                 (None, 16, 16, 64)   9472        ['zero_padding2d_2[0][0]']       \n",
      "                                                                                                  \n",
      " bn_conv1 (BatchNormalization)  (None, 16, 16, 64)   256         ['conv1[0][0]']                  \n",
      "                                                                                                  \n",
      " activation_1 (Activation)      (None, 16, 16, 64)   0           ['bn_conv1[0][0]']               \n",
      "                                                                                                  \n",
      " max_pooling2d_1 (MaxPooling2D)  (None, 7, 7, 64)    0           ['activation_1[0][0]']           \n",
      "                                                                                                  \n",
      " zero_padding2d_3 (ZeroPadding2  (None, 9, 9, 64)    0           ['max_pooling2d_1[0][0]']        \n",
      " D)                                                                                               \n",
      "                                                                                                  \n",
      " conv2 (Conv2D)                 (None, 7, 7, 64)     36928       ['zero_padding2d_3[0][0]']       \n",
      "                                                                                                  \n",
      " bn_conv2 (BatchNormalization)  (None, 7, 7, 64)     256         ['conv2[0][0]']                  \n",
      "                                                                                                  \n",
      " activation_2 (Activation)      (None, 7, 7, 64)     0           ['bn_conv2[0][0]']               \n",
      "                                                                                                  \n",
      " zero_padding2d_4 (ZeroPadding2  (None, 9, 9, 64)    0           ['activation_2[0][0]']           \n",
      " D)                                                                                               \n",
      "                                                                                                  \n",
      " conv3 (Conv2D)                 (None, 7, 7, 64)     36928       ['zero_padding2d_4[0][0]']       \n",
      "                                                                                                  \n",
      " bn_conv3 (BatchNormalization)  (None, 7, 7, 64)     256         ['conv3[0][0]']                  \n",
      "                                                                                                  \n",
      " activation_3 (Activation)      (None, 7, 7, 64)     0           ['bn_conv3[0][0]']               \n",
      "                                                                                                  \n",
      " add (Add)                      (None, 7, 7, 64)     0           ['activation_3[0][0]',           \n",
      "                                                                  'max_pooling2d_1[0][0]']        \n",
      "                                                                                                  \n",
      " activation_4 (Activation)      (None, 7, 7, 64)     0           ['add[0][0]']                    \n",
      "                                                                                                  \n",
      " flatten (Flatten)              (None, 3136)         0           ['activation_4[0][0]']           \n",
      "                                                                                                  \n",
      " fc10 (Dense)                   (None, 10)           31370       ['flatten[0][0]']                \n",
      "                                                                                                  \n",
      "==================================================================================================\n",
      "Total params: 115,466\n",
      "Trainable params: 115,082\n",
      "Non-trainable params: 384\n",
      "__________________________________________________________________________________________________\n"
     ]
    }
   ],
   "source": [
    "model = Model(inputs = xinput,outputs = x, name = 'ResNet50')\n",
    "model.summary()"
   ]
  },
  {
   "cell_type": "code",
   "execution_count": null,
   "id": "35d9fa78",
   "metadata": {},
   "outputs": [],
   "source": []
  },
  {
   "cell_type": "code",
   "execution_count": null,
   "id": "02705f21",
   "metadata": {},
   "outputs": [],
   "source": []
  },
  {
   "cell_type": "code",
   "execution_count": null,
   "id": "ac4543d7",
   "metadata": {},
   "outputs": [],
   "source": []
  },
  {
   "cell_type": "code",
   "execution_count": null,
   "id": "068c147c",
   "metadata": {},
   "outputs": [],
   "source": []
  },
  {
   "cell_type": "code",
   "execution_count": null,
   "id": "1c8ac53e",
   "metadata": {},
   "outputs": [],
   "source": []
  },
  {
   "cell_type": "code",
   "execution_count": null,
   "id": "90179861",
   "metadata": {},
   "outputs": [],
   "source": []
  }
 ],
 "metadata": {
  "kernelspec": {
   "display_name": "Python 3 (ipykernel)",
   "language": "python",
   "name": "python3"
  },
  "language_info": {
   "codemirror_mode": {
    "name": "ipython",
    "version": 3
   },
   "file_extension": ".py",
   "mimetype": "text/x-python",
   "name": "python",
   "nbconvert_exporter": "python",
   "pygments_lexer": "ipython3",
   "version": "3.9.10"
  }
 },
 "nbformat": 4,
 "nbformat_minor": 5
}
